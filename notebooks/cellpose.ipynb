{
 "cells": [
  {
   "cell_type": "code",
   "execution_count": null,
   "metadata": {},
   "outputs": [],
   "source": [
    "import skimage\n",
    "import matplotlib.pyplot as plt\n",
    "from cellpose import models\n",
    "\n",
    "image = skimage.io.imread('https://github.com/guiwitz/PyImageCourse_beginner/raw/master/images/24138_196_F7_2.tif')\n",
    "model = models.Cellpose(model_type='cyto2')\n",
    "output = model.eval(image[::2,::2], channels=[0,2], channel_axis=2, diameter=500)\n",
    "\n",
    "fig, ax = plt.subplots(1,2)\n",
    "ax[0].imshow(image)\n",
    "ax[1].imshow(output[0])\n"
   ]
  }
 ],
 "metadata": {
  "language_info": {
   "name": "python"
  },
  "orig_nbformat": 4
 },
 "nbformat": 4,
 "nbformat_minor": 2
}
